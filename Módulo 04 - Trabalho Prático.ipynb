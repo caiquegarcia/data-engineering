{
 "cells": [
  {
   "cell_type": "markdown",
   "id": "d72a2e8d",
   "metadata": {},
   "source": [
    "## Módulo 04 - Trabalho prático "
   ]
  },
  {
   "cell_type": "code",
   "execution_count": 14,
   "id": "a9d29b97",
   "metadata": {},
   "outputs": [],
   "source": [
    "# Libraries\n",
    "import pandas as pd\n",
    "import numpy as np\n",
    "import requests\n",
    "import zipfile\n",
    "import io\n",
    "import os"
   ]
  },
  {
   "cell_type": "code",
   "execution_count": 13,
   "id": "7bcddfd6",
   "metadata": {},
   "outputs": [],
   "source": [
    "# Download URL variable\n",
    "url = r\"https://download.inep.gov.br/microdados/microdados_enem_2020.zip\""
   ]
  },
  {
   "cell_type": "code",
   "execution_count": 15,
   "id": "999bc0b1",
   "metadata": {},
   "outputs": [
    {
     "name": "stdout",
     "output_type": "stream",
     "text": [
      "Base de dados baixada e extraída.\n"
     ]
    }
   ],
   "source": [
    "# Dowload\n",
    "filebytes = (\n",
    "    io.BytesIO(\n",
    "        requests.get(url).content\n",
    "    )\n",
    ")\n",
    "\n",
    "# Extracting File\n",
    "myzip = zipfile.ZipFile(filebytes)\n",
    "myzip.extractall(\"./enem-2020\")\n",
    "\n",
    "print(\"Base de dados baixada e extraída.\")"
   ]
  },
  {
   "cell_type": "code",
   "execution_count": 21,
   "id": "e60a55e8",
   "metadata": {},
   "outputs": [],
   "source": [
    "# Reading our database as csv file\n",
    "df = pd.read_csv(\"./enem-2020/DADOS/MICRODADOS_ENEM_2020.csv\", sep=\";\", encoding=\"latin-1\")"
   ]
  },
  {
   "cell_type": "code",
   "execution_count": 25,
   "id": "78000cc6",
   "metadata": {},
   "outputs": [],
   "source": [
    "# Filtering SG_UF_ESC == MG\n",
    "df_mg = df.loc[df['SG_UF_ESC'] == 'MG']"
   ]
  },
  {
   "cell_type": "code",
   "execution_count": 26,
   "id": "2bf0d548",
   "metadata": {},
   "outputs": [
    {
     "data": {
      "text/plain": [
       "579.6812230047454"
      ]
     },
     "execution_count": 26,
     "metadata": {},
     "output_type": "execute_result"
    }
   ],
   "source": [
    "# 1 - Qual é a média da nota em matemática dos alunos que estudaram numa escola em Minas Gerais?\n",
    "df_mg['NU_NOTA_MT'].mean()"
   ]
  },
  {
   "cell_type": "code",
   "execution_count": 27,
   "id": "fff6b8ce",
   "metadata": {},
   "outputs": [
    {
     "data": {
      "text/plain": [
       "553.0102913021044"
      ]
     },
     "execution_count": 27,
     "metadata": {},
     "output_type": "execute_result"
    }
   ],
   "source": [
    "# 2 - Qual é a média da nota em Linguagens e Códigos dos alunos que estudaram numa escola em Minas Gerais?\n",
    "df_mg['NU_NOTA_LC'].mean()"
   ]
  },
  {
   "cell_type": "code",
   "execution_count": 28,
   "id": "b91407f6",
   "metadata": {},
   "outputs": [
    {
     "data": {
      "text/plain": [
       "TP_SEXO\n",
       "F    541.308461\n",
       "M    559.554684\n",
       "Name: NU_NOTA_CH, dtype: float64"
      ]
     },
     "execution_count": 28,
     "metadata": {},
     "output_type": "execute_result"
    }
   ],
   "source": [
    "# 3- Qual é a média da nota em Ciências Humanas dos alunos do sexo FEMININO que estudaram numa escola em Minas Gerais?\n",
    "df_mg.groupby(['TP_SEXO'])['NU_NOTA_CH'].mean()"
   ]
  },
  {
   "cell_type": "code",
   "execution_count": 29,
   "id": "0dee2927",
   "metadata": {},
   "outputs": [
    {
     "data": {
      "text/plain": [
       "TP_SEXO\n",
       "F    541.308461\n",
       "M    559.554684\n",
       "Name: NU_NOTA_CH, dtype: float64"
      ]
     },
     "execution_count": 29,
     "metadata": {},
     "output_type": "execute_result"
    }
   ],
   "source": [
    "# 4 - Qual é a média da nota em Ciências Humanas dos alunos do sexo MASCULINO que estudaram numa escola em Minas Gerais?\n",
    "df_mg.groupby(['TP_SEXO'])['NU_NOTA_CH'].mean()"
   ]
  },
  {
   "cell_type": "code",
   "execution_count": 34,
   "id": "38511cc9",
   "metadata": {},
   "outputs": [
    {
     "data": {
      "text/plain": [
       "562.9888361045129"
      ]
     },
     "execution_count": 34,
     "metadata": {},
     "output_type": "execute_result"
    }
   ],
   "source": [
    "# 5 - Qual é a média da nota em Matemática dos alunos do sexo FEMININO que estudaram numa escola na cidade de Montes Claros?\n",
    "df_mg.loc[(df_mg['TP_SEXO'] == 'F') & (df_mg['NO_MUNICIPIO_ESC'] == 'Montes Claros')]['NU_NOTA_MT'].mean()"
   ]
  },
  {
   "cell_type": "code",
   "execution_count": 38,
   "id": "6785f917",
   "metadata": {},
   "outputs": [
    {
     "data": {
      "text/plain": [
       "580.102985074627"
      ]
     },
     "execution_count": 38,
     "metadata": {},
     "output_type": "execute_result"
    }
   ],
   "source": [
    "# 6 - Qual é a média da nota em Matemática dos alunos que estudaram numa escola no município de Sabará e que possuem TV por assinatura na residência?\n",
    "# Q021 - Possui TV por assinatura em sua residência? (A = Não e B = Sim)\n",
    "df_mg.loc[\n",
    "    (df_mg['NO_MUNICIPIO_ESC'] == 'Sabará') &\n",
    "    (df_mg['Q021'] == 'B')\n",
    "]['NU_NOTA_MT'].mean()"
   ]
  },
  {
   "cell_type": "code",
   "execution_count": 39,
   "id": "5a54d82b",
   "metadata": {},
   "outputs": [
    {
     "data": {
      "text/plain": [
       "601.4825757575752"
      ]
     },
     "execution_count": 39,
     "metadata": {},
     "output_type": "execute_result"
    }
   ],
   "source": [
    "# 7 - Qual é a média da nota em Ciências Humanas dos alunos que estudaram numa escola em Minas Gerais e que possuem dois fornos micro-ondas em casa?\n",
    "df_mg.loc[\n",
    "    (df_mg['Q016'] == 'C')\n",
    "]['NU_NOTA_CH'].mean()"
   ]
  },
  {
   "cell_type": "code",
   "execution_count": 40,
   "id": "520c3164",
   "metadata": {},
   "outputs": [
    {
     "data": {
      "text/plain": [
       "642.24518448662"
      ]
     },
     "execution_count": 40,
     "metadata": {},
     "output_type": "execute_result"
    }
   ],
   "source": [
    "# 8 - Qual é a nota média em Matemática dos alunos que estudaram numa escola em Minas Gerais e cuja mãe completou a pós-graduação?\n",
    "df_mg.loc[\n",
    "    (df_mg['Q002'] == 'G')\n",
    "]['NU_NOTA_MT'].mean()"
   ]
  },
  {
   "cell_type": "code",
   "execution_count": 41,
   "id": "0551db0d",
   "metadata": {},
   "outputs": [
    {
     "data": {
      "text/plain": [
       "621.0282524049466"
      ]
     },
     "execution_count": 41,
     "metadata": {},
     "output_type": "execute_result"
    }
   ],
   "source": [
    "# 9 - Qual é a nota média em Matemática dos alunos que estudaram numa escola em Belo Horizonte ou em Conselheiro Lafaiete?\n",
    "df_mg.loc[\n",
    "    (df_mg['NO_MUNICIPIO_ESC'] == 'Belo Horizonte') |\n",
    "    (df_mg['NO_MUNICIPIO_ESC'] == 'Conselheiro Lafaiete')\n",
    "]['NU_NOTA_MT'].mean()"
   ]
  },
  {
   "cell_type": "code",
   "execution_count": 42,
   "id": "0bae7540",
   "metadata": {},
   "outputs": [
    {
     "data": {
      "text/plain": [
       "537.0544303797469"
      ]
     },
     "execution_count": 42,
     "metadata": {},
     "output_type": "execute_result"
    }
   ],
   "source": [
    "# 10 - Qual é a nota média em Ciências Humanas dos alunos que estudaram numa escola em Minas Gerais e que moram sozinhos?\n",
    "df_mg.loc[\n",
    "    (df_mg['Q005'] == 1)\n",
    "]['NU_NOTA_CH'].mean()"
   ]
  },
  {
   "cell_type": "code",
   "execution_count": 43,
   "id": "1128a098",
   "metadata": {},
   "outputs": [
    {
     "data": {
      "text/plain": [
       "623.9422535211263"
      ]
     },
     "execution_count": 43,
     "metadata": {},
     "output_type": "execute_result"
    }
   ],
   "source": [
    "# 11 - Qual é a nota média em Ciências Humanas dos alunos que estudaram numa escola em Minas Gerais,\n",
    "# cujo pai completou pós-graduação e possuem renda familiar entre R$ 8.360,01 e R$ 9.405,00?\n",
    "df_mg.loc[\n",
    "    (df_mg['Q001'] == 'G') &\n",
    "    (df_mg['Q006'] == 'L')\n",
    "]['NU_NOTA_CH'].mean()"
   ]
  },
  {
   "cell_type": "code",
   "execution_count": 44,
   "id": "f923c19e",
   "metadata": {},
   "outputs": [
    {
     "data": {
      "text/plain": [
       "513.3833333333336"
      ]
     },
     "execution_count": 44,
     "metadata": {},
     "output_type": "execute_result"
    }
   ],
   "source": [
    "# 12 - Qual é a nota média em Matemática dos alunos do sexo Feminino que estudaram numa escola em Lavras e escolheram “Espanhol” como língua estrangeira?\n",
    "df_mg.loc[\n",
    "    (df_mg['TP_SEXO'] == 'F') &\n",
    "    (df_mg['NO_MUNICIPIO_ESC'] == 'Lavras') &\n",
    "    (df_mg['TP_LINGUA'] == 1)\n",
    "]['NU_NOTA_MT'].mean()"
   ]
  },
  {
   "cell_type": "code",
   "execution_count": 46,
   "id": "c2c64199",
   "metadata": {},
   "outputs": [
    {
     "data": {
      "text/plain": [
       "615.5823529411764"
      ]
     },
     "execution_count": 46,
     "metadata": {},
     "output_type": "execute_result"
    }
   ],
   "source": [
    "# 13 - Qual é a nota média em Matemática dos alunos do sexo Masculino que estudaram numa escola em Ouro Preto?\n",
    "df_mg.loc[\n",
    "    (df_mg['TP_SEXO'] == 'M') &\n",
    "    (df_mg['NO_MUNICIPIO_ESC'] == 'Ouro Preto')\n",
    "]['NU_NOTA_MT'].mean()"
   ]
  },
  {
   "cell_type": "code",
   "execution_count": 47,
   "id": "68841083",
   "metadata": {},
   "outputs": [
    {
     "data": {
      "text/plain": [
       "473.47792207792213"
      ]
     },
     "execution_count": 47,
     "metadata": {},
     "output_type": "execute_result"
    }
   ],
   "source": [
    "# 14 - Qual é a nota média em Ciências Humanas dos alunos que estudaram numa escola em Minas Gerais e possuem entre 26 e 30 anos?\n",
    "df_mg.loc[\n",
    "    (df_mg['TP_FAIXA_ETARIA'] == 11)\n",
    "]['NU_NOTA_CH'].mean()"
   ]
  },
  {
   "cell_type": "code",
   "execution_count": 48,
   "id": "eb50aee6",
   "metadata": {},
   "outputs": [
    {
     "data": {
      "text/plain": [
       "679.1369481765836"
      ]
     },
     "execution_count": 48,
     "metadata": {},
     "output_type": "execute_result"
    }
   ],
   "source": [
    "# 15 - Qual é a nota média em Matemática dos alunos do sexo FEMININO, que estudaram numa escola em Belo Horizonte, Sabará, Nova Lima ou Betim e estudaram em uma escola privada?\n",
    "df_mg.loc[\n",
    "    (df_mg['TP_SEXO'] == 'F') &\n",
    "    (\n",
    "        (df_mg['NO_MUNICIPIO_ESC'] == 'Belo Horizonte') |\n",
    "        (df_mg['NO_MUNICIPIO_ESC'] == 'Sabará') |\n",
    "        (df_mg['NO_MUNICIPIO_ESC'] == 'Nova Lima') |\n",
    "        (df_mg['NO_MUNICIPIO_ESC'] == 'Betim')\n",
    "    ) &\n",
    "    (df_mg['TP_ESCOLA'] == 3)\n",
    "]['NU_NOTA_MT'].mean()"
   ]
  },
  {
   "cell_type": "code",
   "execution_count": 49,
   "id": "c4137973",
   "metadata": {},
   "outputs": [],
   "source": [
    "# Listing atributes\n",
    "atributes_list = list(df.columns)"
   ]
  },
  {
   "cell_type": "code",
   "execution_count": null,
   "id": "d9a40a83",
   "metadata": {},
   "outputs": [],
   "source": []
  }
 ],
 "metadata": {
  "kernelspec": {
   "display_name": "Python 3 (ipykernel)",
   "language": "python",
   "name": "python3"
  },
  "language_info": {
   "codemirror_mode": {
    "name": "ipython",
    "version": 3
   },
   "file_extension": ".py",
   "mimetype": "text/x-python",
   "name": "python",
   "nbconvert_exporter": "python",
   "pygments_lexer": "ipython3",
   "version": "3.9.12"
  }
 },
 "nbformat": 4,
 "nbformat_minor": 5
}
